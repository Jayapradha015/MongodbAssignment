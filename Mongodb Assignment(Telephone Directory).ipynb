{
 "cells": [
  {
   "cell_type": "code",
   "execution_count": 1,
   "id": "8f511b62",
   "metadata": {},
   "outputs": [
    {
     "name": "stdout",
     "output_type": "stream",
     "text": [
      "Defaulting to user installation because normal site-packages is not writeable\n",
      "Requirement already satisfied: pymongo in c:\\users\\neheil\\appdata\\roaming\\python\\python310\\site-packages (4.3.3)\n",
      "Requirement already satisfied: dnspython<3.0.0,>=1.16.0 in c:\\users\\neheil\\appdata\\roaming\\python\\python310\\site-packages (from pymongo) (2.2.1)\n"
     ]
    }
   ],
   "source": [
    "!pip install pymongo"
   ]
  },
  {
   "cell_type": "code",
   "execution_count": 16,
   "id": "5adee1e9",
   "metadata": {},
   "outputs": [],
   "source": [
    "import pymongo\n",
    "from pymongo import MongoClient\n",
    "client=MongoClient(\"mongodb://127.0.0.1:27017\")"
   ]
  },
  {
   "cell_type": "code",
   "execution_count": 17,
   "id": "f6bd342f",
   "metadata": {},
   "outputs": [
    {
     "data": {
      "text/plain": [
       "Database(MongoClient(host=['127.0.0.1:27017'], document_class=dict, tz_aware=False, connect=True), 'Tele_Directory')"
      ]
     },
     "execution_count": 17,
     "metadata": {},
     "output_type": "execute_result"
    }
   ],
   "source": [
    "db=client[\"Tele_Directory\"]\n",
    "db\n"
   ]
  },
  {
   "cell_type": "code",
   "execution_count": 18,
   "id": "92a999e1",
   "metadata": {},
   "outputs": [
    {
     "data": {
      "text/plain": [
       "Collection(Database(MongoClient(host=['127.0.0.1:27017'], document_class=dict, tz_aware=False, connect=True), 'Tele_Directory'), 'Details')"
      ]
     },
     "execution_count": 18,
     "metadata": {},
     "output_type": "execute_result"
    }
   ],
   "source": [
    "#Create Database\n",
    "myColl=db[\"Details\"]\n",
    "myColl"
   ]
  },
  {
   "cell_type": "code",
   "execution_count": 19,
   "id": "93f029ad",
   "metadata": {},
   "outputs": [
    {
     "name": "stdout",
     "output_type": "stream",
     "text": [
      "['IIT', 'Testing', 'Testing1', 'admin', 'config', 'guvi', 'guvi1', 'local', 'students_data', 'university']\n"
     ]
    }
   ],
   "source": [
    "#create collection\n",
    "mydbs=client.list_database_names()\n",
    "print(mydbs)"
   ]
  },
  {
   "cell_type": "code",
   "execution_count": 21,
   "id": "1e1d20c8",
   "metadata": {},
   "outputs": [
    {
     "data": {
      "text/plain": [
       "<pymongo.results.InsertOneResult at 0x162a709cac0>"
      ]
     },
     "execution_count": 21,
     "metadata": {},
     "output_type": "execute_result"
    }
   ],
   "source": [
    "#Inserting one document into collection\n",
    "det={\"Name\":\"Raju\",\"Phone_no\":8453231256,\"Place\":\"Chennai\"}\n",
    "myColl.insert_one(det)"
   ]
  },
  {
   "cell_type": "code",
   "execution_count": 22,
   "id": "357d90a1",
   "metadata": {},
   "outputs": [
    {
     "data": {
      "text/plain": [
       "<pymongo.results.InsertManyResult at 0x162a6ea2230>"
      ]
     },
     "execution_count": 22,
     "metadata": {},
     "output_type": "execute_result"
    }
   ],
   "source": [
    "#inserting multiple document into collection\n",
    "det_lst=[{\"Name\":\"Rani\",\"Phone_no\":8456541256,\"Place\":\"Salem\"},\n",
    "         {\"Name\":\"Sam\",\"Phone_no\":8453238723,\"Place\":\"Madurai\"},\n",
    "         {\"Name\":\"Kathir\",\"Phone_no\":8129231256,\"Place\":\"Erode\"},\n",
    "         {\"Name\":\"Raju\",\"Phone_no\":6453239643,\"Place\":\"Ooty\"},\n",
    "         {\"Name\":\"Banu\",\"Phone_no\":6543231256,\"Place\":\"Trichy\"},\n",
    "         {\"Name\":\"Abu\",\"Phone_no\":7453231254,\"Place\":\"Chennai\"},\n",
    "         {\"Name\":\"Tina\",\"Phone_no\":8453987256,\"Place\":\"Trichy\"},\n",
    "         {\"Name\":\"Ravi\",\"Phone_no\":8453265489,\"Place\":\"Chennai\"},\n",
    "         {\"Name\":\"Anbu\",\"Phone_no\":7432931256,\"Place\":\"Nagerkovil\"},\n",
    "         {\"Name\":\"Jeevan\",\"Phone_no\":5453298256,\"Place\":\"Theni\"},\n",
    "         {\"Name\":\"Arivu\",\"Phone_no\":4589231256,\"Place\":\"Karur\"},\n",
    "         {\"Name\":\"Abi\",\"Phone_no\":8458723197,\"Place\":\"coimbatore\"},\n",
    "         {\"Name\":\"Kani\",\"Phone_no\":6597331256,\"Place\":\"Kodaikanal\"}]\n",
    "myColl.insert_many(det_lst)"
   ]
  },
  {
   "cell_type": "code",
   "execution_count": 24,
   "id": "44ea08fa",
   "metadata": {},
   "outputs": [
    {
     "name": "stdout",
     "output_type": "stream",
     "text": [
      "{'_id': ObjectId('63b26e3b5805a0200d57d8b1'), 'Name': 'Raju', 'Phone_no': 8453231256, 'Place': 'Chennai'}\n",
      "{'_id': ObjectId('63b272b45805a0200d57d8b2'), 'Name': 'Rani', 'Phone_no': 8456541256, 'Place': 'Salem'}\n",
      "{'_id': ObjectId('63b272b45805a0200d57d8b3'), 'Name': 'Sam', 'Phone_no': 8453238723, 'Place': 'Madurai'}\n",
      "{'_id': ObjectId('63b272b45805a0200d57d8b4'), 'Name': 'Kathir', 'Phone_no': 8129231256, 'Place': 'Erode'}\n",
      "{'_id': ObjectId('63b272b45805a0200d57d8b5'), 'Name': 'Raju', 'Phone_no': 6453239643, 'Place': 'Ooty'}\n",
      "{'_id': ObjectId('63b272b45805a0200d57d8b6'), 'Name': 'Banu', 'Phone_no': 6543231256, 'Place': 'Trichy'}\n",
      "{'_id': ObjectId('63b272b45805a0200d57d8b7'), 'Name': 'Abu', 'Phone_no': 7453231254, 'Place': 'Chennai'}\n",
      "{'_id': ObjectId('63b272b45805a0200d57d8b8'), 'Name': 'Tina', 'Phone_no': 8453987256, 'Place': 'Trichy'}\n",
      "{'_id': ObjectId('63b272b45805a0200d57d8b9'), 'Name': 'Ravi', 'Phone_no': 8453265489, 'Place': 'Chennai'}\n",
      "{'_id': ObjectId('63b272b45805a0200d57d8ba'), 'Name': 'Anbu', 'Phone_no': 7432931256, 'Place': 'Nagerkovil'}\n",
      "{'_id': ObjectId('63b272b45805a0200d57d8bb'), 'Name': 'Jeevan', 'Phone_no': 5453298256, 'Place': 'Theni'}\n",
      "{'_id': ObjectId('63b272b45805a0200d57d8bc'), 'Name': 'Arivu', 'Phone_no': 4589231256, 'Place': 'Karur'}\n",
      "{'_id': ObjectId('63b272b45805a0200d57d8bd'), 'Name': 'Abi', 'Phone_no': 8458723197, 'Place': 'coimbatore'}\n",
      "{'_id': ObjectId('63b272b45805a0200d57d8be'), 'Name': 'Kani', 'Phone_no': 6597331256, 'Place': 'Kodaikanal'}\n"
     ]
    }
   ],
   "source": [
    "for i in myColl.find():\n",
    "  print(i)"
   ]
  },
  {
   "cell_type": "code",
   "execution_count": 25,
   "id": "315ed09d",
   "metadata": {},
   "outputs": [
    {
     "data": {
      "text/plain": [
       "<pymongo.results.UpdateResult at 0x162a6ea1d80>"
      ]
     },
     "execution_count": 25,
     "metadata": {},
     "output_type": "execute_result"
    }
   ],
   "source": [
    "#Update document\n",
    "old_data={\"Name\":\"Ravi\",\"Place\":\"Chennai\"}\n",
    "new_data={\"$set\":{\"Place\":\"Salem\"}}\n",
    "myColl.update_one(old_data,new_data)"
   ]
  },
  {
   "cell_type": "code",
   "execution_count": 26,
   "id": "db589499",
   "metadata": {},
   "outputs": [
    {
     "name": "stdout",
     "output_type": "stream",
     "text": [
      "{'_id': ObjectId('63b272b45805a0200d57d8b9'), 'Name': 'Ravi', 'Phone_no': 8453265489, 'Place': 'Salem'}\n"
     ]
    }
   ],
   "source": [
    "for i in myColl.find({\"Name\":\"Ravi\"}):\n",
    "    print(i)"
   ]
  },
  {
   "cell_type": "code",
   "execution_count": 27,
   "id": "5148104e",
   "metadata": {},
   "outputs": [
    {
     "data": {
      "text/plain": [
       "<pymongo.results.DeleteResult at 0x162a70fbe20>"
      ]
     },
     "execution_count": 27,
     "metadata": {},
     "output_type": "execute_result"
    }
   ],
   "source": [
    "#Delete One Document\n",
    "query={\"Place\":\"Trichy\"}\n",
    "myColl.delete_one(query)"
   ]
  },
  {
   "cell_type": "code",
   "execution_count": 28,
   "id": "d96f18a2",
   "metadata": {},
   "outputs": [
    {
     "name": "stdout",
     "output_type": "stream",
     "text": [
      "{'_id': ObjectId('63b26e3b5805a0200d57d8b1'), 'Name': 'Raju', 'Phone_no': 8453231256, 'Place': 'Chennai'}\n",
      "{'_id': ObjectId('63b272b45805a0200d57d8b2'), 'Name': 'Rani', 'Phone_no': 8456541256, 'Place': 'Salem'}\n",
      "{'_id': ObjectId('63b272b45805a0200d57d8b3'), 'Name': 'Sam', 'Phone_no': 8453238723, 'Place': 'Madurai'}\n",
      "{'_id': ObjectId('63b272b45805a0200d57d8b4'), 'Name': 'Kathir', 'Phone_no': 8129231256, 'Place': 'Erode'}\n",
      "{'_id': ObjectId('63b272b45805a0200d57d8b5'), 'Name': 'Raju', 'Phone_no': 6453239643, 'Place': 'Ooty'}\n",
      "{'_id': ObjectId('63b272b45805a0200d57d8b7'), 'Name': 'Abu', 'Phone_no': 7453231254, 'Place': 'Chennai'}\n",
      "{'_id': ObjectId('63b272b45805a0200d57d8b8'), 'Name': 'Tina', 'Phone_no': 8453987256, 'Place': 'Trichy'}\n",
      "{'_id': ObjectId('63b272b45805a0200d57d8b9'), 'Name': 'Ravi', 'Phone_no': 8453265489, 'Place': 'Salem'}\n",
      "{'_id': ObjectId('63b272b45805a0200d57d8ba'), 'Name': 'Anbu', 'Phone_no': 7432931256, 'Place': 'Nagerkovil'}\n",
      "{'_id': ObjectId('63b272b45805a0200d57d8bb'), 'Name': 'Jeevan', 'Phone_no': 5453298256, 'Place': 'Theni'}\n",
      "{'_id': ObjectId('63b272b45805a0200d57d8bc'), 'Name': 'Arivu', 'Phone_no': 4589231256, 'Place': 'Karur'}\n",
      "{'_id': ObjectId('63b272b45805a0200d57d8bd'), 'Name': 'Abi', 'Phone_no': 8458723197, 'Place': 'coimbatore'}\n",
      "{'_id': ObjectId('63b272b45805a0200d57d8be'), 'Name': 'Kani', 'Phone_no': 6597331256, 'Place': 'Kodaikanal'}\n"
     ]
    }
   ],
   "source": [
    "for i in myColl.find():\n",
    "    print(i)"
   ]
  }
 ],
 "metadata": {
  "kernelspec": {
   "display_name": "Python 3 (ipykernel)",
   "language": "python",
   "name": "python3"
  },
  "language_info": {
   "codemirror_mode": {
    "name": "ipython",
    "version": 3
   },
   "file_extension": ".py",
   "mimetype": "text/x-python",
   "name": "python",
   "nbconvert_exporter": "python",
   "pygments_lexer": "ipython3",
   "version": "3.10.7"
  }
 },
 "nbformat": 4,
 "nbformat_minor": 5
}
